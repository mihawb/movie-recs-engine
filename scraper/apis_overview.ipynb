{
 "cells": [
  {
   "cell_type": "code",
   "execution_count": 3,
   "metadata": {},
   "outputs": [
    {
     "data": {
      "text/plain": [
       "(None, None)"
      ]
     },
     "execution_count": 3,
     "metadata": {},
     "output_type": "execute_result"
    }
   ],
   "source": [
    "from imdb import Cinemagoer\n",
    "import requests\n",
    "from os import getenv\n",
    "\n",
    "OMDB_KEY = getenv('OMDB_KEY') # both might be None\n",
    "TMDB_KEY = getenv('TMDB_KEY')\n",
    "MOVIE_ID = '3896198'\n",
    "\n",
    "OMDB_KEY, TMDB_KEY"
   ]
  },
  {
   "attachments": {},
   "cell_type": "markdown",
   "metadata": {},
   "source": [
    "# Cinemagoer Python module\n",
    "[Cinemagoer documentation](https://imdbpy.readthedocs.io/en/latest/index.html)  \n",
    "`python -m pip install cinemagoer`"
   ]
  },
  {
   "cell_type": "code",
   "execution_count": 14,
   "metadata": {},
   "outputs": [
    {
     "name": "stdout",
     "output_type": "stream",
     "text": [
      "['original title', 'localized title', 'cast', 'genres', 'runtimes', 'countries', 'country codes', 'language codes', 'color info', 'aspect ratio', 'sound mix', 'box office', 'certificates', 'original air date', 'rating', 'votes', 'cover url', 'imdbID', 'videos', 'plot outline', 'languages', 'title', 'year', 'kind', 'director', 'writer', 'producer', 'composer', 'cinematographer', 'editor', 'editorial department', 'casting director', 'production design', 'art direction', 'set decoration', 'costume designer', 'make up', 'production manager', 'assistant director', 'art department', 'sound crew', 'special effects', 'visual effects', 'stunt performer', 'camera and electrical department', 'animation department', 'casting department', 'costume department', 'location management', 'music department', 'script department', 'transportation department', 'miscellaneous crew', 'thanks', 'akas', 'production companies', 'distributors', 'special effects companies', 'other companies', 'plot', 'synopsis', 'canonical title', 'long imdb title', 'long imdb canonical title', 'smart canonical title', 'smart long imdb canonical title', 'full-size cover url']\n",
      "original title: Guardians of the Galaxy Vol. 2\n",
      "year: 2017\n",
      "genres: ['Action', 'Adventure', 'Comedy', 'Sci-Fi']\n",
      "kind: movie\n"
     ]
    }
   ],
   "source": [
    "cg = Cinemagoer()\n",
    "\n",
    "cg_movie = cg.get_movie(MOVIE_ID)\n",
    "\n",
    "print(cg_movie.keys())\n",
    "\n",
    "for key in ['original title', 'year', 'genres', 'kind']:\n",
    "\tprint(f'{key}: {cg_movie[key]}')"
   ]
  },
  {
   "cell_type": "code",
   "execution_count": 15,
   "metadata": {},
   "outputs": [
    {
     "name": "stdout",
     "output_type": "stream",
     "text": [
      "['plot outline', 'plot', 'synopsis']\n"
     ]
    }
   ],
   "source": [
    "print(list(filter(\n",
    "    lambda k: any([x in k for x in ['desc', 'plot', 'synopsis', 'story', 'summary']]), \n",
    "\t\tcg_movie.keys()\n",
    ")))"
   ]
  },
  {
   "cell_type": "code",
   "execution_count": 16,
   "metadata": {},
   "outputs": [
    {
     "name": "stdout",
     "output_type": "stream",
     "text": [
      "plot outline wc: 60\n",
      "Lengthiest plot (out of 4) wc: 118\n",
      "Lengthiest synopsis (out of 1) wc: 2148\n"
     ]
    }
   ],
   "source": [
    "print('plot outline wc:', len(cg_movie['plot outline'].split()))\n",
    "\n",
    "max_len_plot = len(max(cg_movie['plot'], key=len).split())\n",
    "print(f\"Lengthiest plot (out of {len(cg_movie['plot'])}) wc: {max_len_plot}\")\n",
    "\n",
    "# seems like there's always only one synopsis if any, but it is a list nonetheless\n",
    "if cg_movie.get('synopsis', False):\n",
    "\tmax_len_synopsis = len(max(cg_movie['synopsis'], key=len).split())\n",
    "\tprint(f\"Lengthiest synopsis (out of {len(cg_movie['synopsis'])}) wc: {max_len_synopsis}\")"
   ]
  },
  {
   "attachments": {},
   "cell_type": "markdown",
   "metadata": {},
   "source": [
    "# Open Movie Database API\n",
    "Free API access supposedly allows for 1000 calls a day, which may extend mining process.    \n",
    "[OMDb website](http://www.omdbapi.com/)"
   ]
  },
  {
   "cell_type": "code",
   "execution_count": 17,
   "metadata": {},
   "outputs": [
    {
     "data": {
      "text/plain": [
       "{'Title': 'Guardians of the Galaxy Vol. 2',\n",
       " 'Year': '2017',\n",
       " 'Rated': 'PG-13',\n",
       " 'Released': '05 May 2017',\n",
       " 'Runtime': '136 min',\n",
       " 'Genre': 'Action, Adventure, Comedy',\n",
       " 'Director': 'James Gunn',\n",
       " 'Writer': 'James Gunn, Dan Abnett, Andy Lanning',\n",
       " 'Actors': 'Chris Pratt, Zoe Saldana, Dave Bautista',\n",
       " 'Plot': \"After saving Xandar from Ronan's wrath, the Guardians are now recognized as heroes. Now the team must help their leader Star Lord (Chris Pratt) uncover the truth behind his true heritage. Along the way, old foes turn to allies and betrayal is blooming. And the Guardians find that they are up against a devastating new menace who is out to rule the galaxy.\",\n",
       " 'Language': 'English',\n",
       " 'Country': 'United States',\n",
       " 'Awards': 'Nominated for 1 Oscar. 15 wins & 60 nominations total',\n",
       " 'Poster': 'https://m.media-amazon.com/images/M/MV5BNjM0NTc0NzItM2FlYS00YzEwLWE0YmUtNTA2ZWIzODc2OTgxXkEyXkFqcGdeQXVyNTgwNzIyNzg@._V1_SX300.jpg',\n",
       " 'Ratings': [{'Source': 'Internet Movie Database', 'Value': '7.6/10'},\n",
       "  {'Source': 'Rotten Tomatoes', 'Value': '85%'},\n",
       "  {'Source': 'Metacritic', 'Value': '67/100'}],\n",
       " 'Metascore': '67',\n",
       " 'imdbRating': '7.6',\n",
       " 'imdbVotes': '699,402',\n",
       " 'imdbID': 'tt3896198',\n",
       " 'Type': 'movie',\n",
       " 'DVD': '22 Aug 2017',\n",
       " 'BoxOffice': '$389,813,101',\n",
       " 'Production': 'N/A',\n",
       " 'Website': 'N/A',\n",
       " 'Response': 'True'}"
      ]
     },
     "execution_count": 17,
     "metadata": {},
     "output_type": "execute_result"
    }
   ],
   "source": [
    "params = {'i': 'tt'+MOVIE_ID, 'apikey': OMDB_KEY, 'plot': 'full'}\n",
    "omdb_res = requests.get('http://www.omdbapi.com/', params=params)\n",
    "\n",
    "omdb_movie = omdb_res.json()\n",
    "omdb_movie"
   ]
  },
  {
   "cell_type": "code",
   "execution_count": 18,
   "metadata": {},
   "outputs": [
    {
     "name": "stdout",
     "output_type": "stream",
     "text": [
      "Plot wc: 63\n"
     ]
    }
   ],
   "source": [
    "print(f\"Plot wc: {len(omdb_movie['Plot'].split())}\")"
   ]
  },
  {
   "attachments": {},
   "cell_type": "markdown",
   "metadata": {},
   "source": [
    "# The Movie Database\n",
    "Uses different ID scheme than IMDb, but this shouldn't be a problem.  \n",
    "Easy list retrival with `GET /movie/top_rated` or `GET /movie/popular`  \n",
    "[TMDb website](https://www.themoviedb.org/)"
   ]
  },
  {
   "cell_type": "code",
   "execution_count": null,
   "metadata": {},
   "outputs": [
    {
     "data": {
      "text/plain": [
       "{'adult': False,\n",
       " 'backdrop_path': '/aJn9XeesqsrSLKcHfHP4u5985hn.jpg',\n",
       " 'belongs_to_collection': {'id': 284433,\n",
       "  'name': 'Guardians of the Galaxy Collection',\n",
       "  'poster_path': '/iL8mukexAqEg0xK783rG561tdd8.jpg',\n",
       "  'backdrop_path': '/jdyyjulTBU8YUYAUvQFj6U1g2Pj.jpg'},\n",
       " 'budget': 200000000,\n",
       " 'genres': [{'id': 12, 'name': 'Adventure'},\n",
       "  {'id': 28, 'name': 'Action'},\n",
       "  {'id': 878, 'name': 'Science Fiction'}],\n",
       " 'homepage': 'http://marvel.com/movies/movie/221/guardians_of_the_galaxy_vol_2',\n",
       " 'id': 283995,\n",
       " 'imdb_id': 'tt3896198',\n",
       " 'original_language': 'en',\n",
       " 'original_title': 'Guardians of the Galaxy Vol. 2',\n",
       " 'overview': \"The Guardians must fight to keep their newfound family together as they unravel the mysteries of Peter Quill's true parentage.\",\n",
       " 'popularity': 188.114,\n",
       " 'poster_path': '/y4MBh0EjBlMuOzv9axM4qJlmhzz.jpg',\n",
       " 'production_companies': [{'id': 420,\n",
       "   'logo_path': '/hUzeosd33nzE5MCNsZxCGEKTXaQ.png',\n",
       "   'name': 'Marvel Studios',\n",
       "   'origin_country': 'US'}],\n",
       " 'production_countries': [{'iso_3166_1': 'US',\n",
       "   'name': 'United States of America'}],\n",
       " 'release_date': '2017-04-19',\n",
       " 'revenue': 863756051,\n",
       " 'runtime': 137,\n",
       " 'spoken_languages': [{'english_name': 'English',\n",
       "   'iso_639_1': 'en',\n",
       "   'name': 'English'}],\n",
       " 'status': 'Released',\n",
       " 'tagline': 'Obviously.',\n",
       " 'title': 'Guardians of the Galaxy Vol. 2',\n",
       " 'video': False,\n",
       " 'vote_average': 7.6,\n",
       " 'vote_count': 19536}"
      ]
     },
     "execution_count": 19,
     "metadata": {},
     "output_type": "execute_result"
    }
   ],
   "source": [
    "tmdb_res = requests.get(f'https://api.themoviedb.org/3/movie/283995?api_key={TMDB_KEY}')\n",
    "\n",
    "tmdb_movie = tmdb_res.json()\n",
    "tmdb_movie"
   ]
  },
  {
   "attachments": {},
   "cell_type": "markdown",
   "metadata": {},
   "source": [
    "### Conclusion\n",
    "TMDb does not have plot summaries in their API which makes them a source for genres and keywords only.\n",
    "OMDb has shorter plot descriptions than Cinemagoer, but is more versatile technology-wise."
   ]
  }
 ],
 "metadata": {
  "kernelspec": {
   "display_name": "Python 3",
   "language": "python",
   "name": "python3"
  },
  "language_info": {
   "codemirror_mode": {
    "name": "ipython",
    "version": 3
   },
   "file_extension": ".py",
   "mimetype": "text/x-python",
   "name": "python",
   "nbconvert_exporter": "python",
   "pygments_lexer": "ipython3",
   "version": "3.11.1"
  },
  "orig_nbformat": 4
 },
 "nbformat": 4,
 "nbformat_minor": 2
}
